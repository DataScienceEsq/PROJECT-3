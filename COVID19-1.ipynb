{
 "cells": [
  {
   "cell_type": "markdown",
   "metadata": {},
   "source": [
    "# 1. Data Wrangling/Exploration"
   ]
  },
  {
   "cell_type": "markdown",
   "metadata": {},
   "source": [
    "### A. Upload CSV File with COVID-19 Data ..."
   ]
  },
  {
   "cell_type": "code",
   "execution_count": 1,
   "metadata": {},
   "outputs": [],
   "source": [
    "import pandas as pd"
   ]
  },
  {
   "cell_type": "code",
   "execution_count": 2,
   "metadata": {},
   "outputs": [
    {
     "data": {
      "text/html": [
       "<div>\n",
       "<style scoped>\n",
       "    .dataframe tbody tr th:only-of-type {\n",
       "        vertical-align: middle;\n",
       "    }\n",
       "\n",
       "    .dataframe tbody tr th {\n",
       "        vertical-align: top;\n",
       "    }\n",
       "\n",
       "    .dataframe thead th {\n",
       "        text-align: right;\n",
       "    }\n",
       "</style>\n",
       "<table border=\"1\" class=\"dataframe\">\n",
       "  <thead>\n",
       "    <tr style=\"text-align: right;\">\n",
       "      <th></th>\n",
       "      <th>id</th>\n",
       "      <th>sex</th>\n",
       "      <th>patient_type</th>\n",
       "      <th>entry_date</th>\n",
       "      <th>date_symptoms</th>\n",
       "      <th>date_died</th>\n",
       "      <th>intubed</th>\n",
       "      <th>pneumonia</th>\n",
       "      <th>age</th>\n",
       "      <th>pregnancy</th>\n",
       "      <th>...</th>\n",
       "      <th>inmsupr</th>\n",
       "      <th>hypertension</th>\n",
       "      <th>other_disease</th>\n",
       "      <th>cardiovascular</th>\n",
       "      <th>obesity</th>\n",
       "      <th>renal_chronic</th>\n",
       "      <th>tobacco</th>\n",
       "      <th>contact_other_covid</th>\n",
       "      <th>covid_res</th>\n",
       "      <th>icu</th>\n",
       "    </tr>\n",
       "  </thead>\n",
       "  <tbody>\n",
       "    <tr>\n",
       "      <th>0</th>\n",
       "      <td>16169f</td>\n",
       "      <td>2</td>\n",
       "      <td>1</td>\n",
       "      <td>04-05-2020</td>\n",
       "      <td>02-05-2020</td>\n",
       "      <td>9999-99-99</td>\n",
       "      <td>97</td>\n",
       "      <td>2</td>\n",
       "      <td>27</td>\n",
       "      <td>97</td>\n",
       "      <td>...</td>\n",
       "      <td>2</td>\n",
       "      <td>2</td>\n",
       "      <td>2</td>\n",
       "      <td>2</td>\n",
       "      <td>2</td>\n",
       "      <td>2</td>\n",
       "      <td>2</td>\n",
       "      <td>2</td>\n",
       "      <td>1</td>\n",
       "      <td>97</td>\n",
       "    </tr>\n",
       "    <tr>\n",
       "      <th>1</th>\n",
       "      <td>1009bf</td>\n",
       "      <td>2</td>\n",
       "      <td>1</td>\n",
       "      <td>19-03-2020</td>\n",
       "      <td>17-03-2020</td>\n",
       "      <td>9999-99-99</td>\n",
       "      <td>97</td>\n",
       "      <td>2</td>\n",
       "      <td>24</td>\n",
       "      <td>97</td>\n",
       "      <td>...</td>\n",
       "      <td>2</td>\n",
       "      <td>2</td>\n",
       "      <td>2</td>\n",
       "      <td>2</td>\n",
       "      <td>2</td>\n",
       "      <td>2</td>\n",
       "      <td>2</td>\n",
       "      <td>99</td>\n",
       "      <td>1</td>\n",
       "      <td>97</td>\n",
       "    </tr>\n",
       "    <tr>\n",
       "      <th>2</th>\n",
       "      <td>167386</td>\n",
       "      <td>1</td>\n",
       "      <td>2</td>\n",
       "      <td>06-04-2020</td>\n",
       "      <td>01-04-2020</td>\n",
       "      <td>9999-99-99</td>\n",
       "      <td>2</td>\n",
       "      <td>2</td>\n",
       "      <td>54</td>\n",
       "      <td>2</td>\n",
       "      <td>...</td>\n",
       "      <td>2</td>\n",
       "      <td>2</td>\n",
       "      <td>2</td>\n",
       "      <td>2</td>\n",
       "      <td>1</td>\n",
       "      <td>2</td>\n",
       "      <td>2</td>\n",
       "      <td>99</td>\n",
       "      <td>1</td>\n",
       "      <td>2</td>\n",
       "    </tr>\n",
       "    <tr>\n",
       "      <th>3</th>\n",
       "      <td>0b5948</td>\n",
       "      <td>2</td>\n",
       "      <td>2</td>\n",
       "      <td>17-04-2020</td>\n",
       "      <td>10-04-2020</td>\n",
       "      <td>9999-99-99</td>\n",
       "      <td>2</td>\n",
       "      <td>1</td>\n",
       "      <td>30</td>\n",
       "      <td>97</td>\n",
       "      <td>...</td>\n",
       "      <td>2</td>\n",
       "      <td>2</td>\n",
       "      <td>2</td>\n",
       "      <td>2</td>\n",
       "      <td>2</td>\n",
       "      <td>2</td>\n",
       "      <td>2</td>\n",
       "      <td>99</td>\n",
       "      <td>1</td>\n",
       "      <td>2</td>\n",
       "    </tr>\n",
       "    <tr>\n",
       "      <th>4</th>\n",
       "      <td>0d01b5</td>\n",
       "      <td>1</td>\n",
       "      <td>2</td>\n",
       "      <td>13-04-2020</td>\n",
       "      <td>13-04-2020</td>\n",
       "      <td>22-04-2020</td>\n",
       "      <td>2</td>\n",
       "      <td>2</td>\n",
       "      <td>60</td>\n",
       "      <td>2</td>\n",
       "      <td>...</td>\n",
       "      <td>2</td>\n",
       "      <td>1</td>\n",
       "      <td>2</td>\n",
       "      <td>1</td>\n",
       "      <td>2</td>\n",
       "      <td>2</td>\n",
       "      <td>2</td>\n",
       "      <td>99</td>\n",
       "      <td>1</td>\n",
       "      <td>2</td>\n",
       "    </tr>\n",
       "  </tbody>\n",
       "</table>\n",
       "<p>5 rows × 23 columns</p>\n",
       "</div>"
      ],
      "text/plain": [
       "       id  sex  patient_type  entry_date date_symptoms   date_died  intubed  \\\n",
       "0  16169f    2             1  04-05-2020    02-05-2020  9999-99-99       97   \n",
       "1  1009bf    2             1  19-03-2020    17-03-2020  9999-99-99       97   \n",
       "2  167386    1             2  06-04-2020    01-04-2020  9999-99-99        2   \n",
       "3  0b5948    2             2  17-04-2020    10-04-2020  9999-99-99        2   \n",
       "4  0d01b5    1             2  13-04-2020    13-04-2020  22-04-2020        2   \n",
       "\n",
       "   pneumonia  age  pregnancy  ...  inmsupr  hypertension  other_disease  \\\n",
       "0          2   27         97  ...        2             2              2   \n",
       "1          2   24         97  ...        2             2              2   \n",
       "2          2   54          2  ...        2             2              2   \n",
       "3          1   30         97  ...        2             2              2   \n",
       "4          2   60          2  ...        2             1              2   \n",
       "\n",
       "   cardiovascular  obesity  renal_chronic  tobacco  contact_other_covid  \\\n",
       "0               2        2              2        2                    2   \n",
       "1               2        2              2        2                   99   \n",
       "2               2        1              2        2                   99   \n",
       "3               2        2              2        2                   99   \n",
       "4               1        2              2        2                   99   \n",
       "\n",
       "   covid_res  icu  \n",
       "0          1   97  \n",
       "1          1   97  \n",
       "2          1    2  \n",
       "3          1    2  \n",
       "4          1    2  \n",
       "\n",
       "[5 rows x 23 columns]"
      ]
     },
     "execution_count": 2,
     "metadata": {},
     "output_type": "execute_result"
    }
   ],
   "source": [
    "import types\n",
    "import pandas as pd\n",
    "from botocore.client import Config\n",
    "import ibm_boto3\n",
    "\n",
    "df_data_1 = pd.read_csv(body)\n",
    "df_data_1.head()\n"
   ]
  },
  {
   "cell_type": "code",
   "execution_count": 3,
   "metadata": {},
   "outputs": [],
   "source": [
    "covidPDF = df_data_1"
   ]
  },
  {
   "cell_type": "code",
   "execution_count": 4,
   "metadata": {},
   "outputs": [
    {
     "data": {
      "text/html": [
       "<div>\n",
       "<style scoped>\n",
       "    .dataframe tbody tr th:only-of-type {\n",
       "        vertical-align: middle;\n",
       "    }\n",
       "\n",
       "    .dataframe tbody tr th {\n",
       "        vertical-align: top;\n",
       "    }\n",
       "\n",
       "    .dataframe thead th {\n",
       "        text-align: right;\n",
       "    }\n",
       "</style>\n",
       "<table border=\"1\" class=\"dataframe\">\n",
       "  <thead>\n",
       "    <tr style=\"text-align: right;\">\n",
       "      <th></th>\n",
       "      <th>id</th>\n",
       "      <th>sex</th>\n",
       "      <th>patient_type</th>\n",
       "      <th>entry_date</th>\n",
       "      <th>date_symptoms</th>\n",
       "      <th>date_died</th>\n",
       "      <th>intubed</th>\n",
       "      <th>pneumonia</th>\n",
       "      <th>age</th>\n",
       "      <th>pregnancy</th>\n",
       "      <th>...</th>\n",
       "      <th>inmsupr</th>\n",
       "      <th>hypertension</th>\n",
       "      <th>other_disease</th>\n",
       "      <th>cardiovascular</th>\n",
       "      <th>obesity</th>\n",
       "      <th>renal_chronic</th>\n",
       "      <th>tobacco</th>\n",
       "      <th>contact_other_covid</th>\n",
       "      <th>covid_res</th>\n",
       "      <th>icu</th>\n",
       "    </tr>\n",
       "  </thead>\n",
       "  <tbody>\n",
       "    <tr>\n",
       "      <th>0</th>\n",
       "      <td>16169f</td>\n",
       "      <td>2</td>\n",
       "      <td>1</td>\n",
       "      <td>04-05-2020</td>\n",
       "      <td>02-05-2020</td>\n",
       "      <td>9999-99-99</td>\n",
       "      <td>97</td>\n",
       "      <td>2</td>\n",
       "      <td>27</td>\n",
       "      <td>97</td>\n",
       "      <td>...</td>\n",
       "      <td>2</td>\n",
       "      <td>2</td>\n",
       "      <td>2</td>\n",
       "      <td>2</td>\n",
       "      <td>2</td>\n",
       "      <td>2</td>\n",
       "      <td>2</td>\n",
       "      <td>2</td>\n",
       "      <td>1</td>\n",
       "      <td>97</td>\n",
       "    </tr>\n",
       "    <tr>\n",
       "      <th>1</th>\n",
       "      <td>1009bf</td>\n",
       "      <td>2</td>\n",
       "      <td>1</td>\n",
       "      <td>19-03-2020</td>\n",
       "      <td>17-03-2020</td>\n",
       "      <td>9999-99-99</td>\n",
       "      <td>97</td>\n",
       "      <td>2</td>\n",
       "      <td>24</td>\n",
       "      <td>97</td>\n",
       "      <td>...</td>\n",
       "      <td>2</td>\n",
       "      <td>2</td>\n",
       "      <td>2</td>\n",
       "      <td>2</td>\n",
       "      <td>2</td>\n",
       "      <td>2</td>\n",
       "      <td>2</td>\n",
       "      <td>99</td>\n",
       "      <td>1</td>\n",
       "      <td>97</td>\n",
       "    </tr>\n",
       "    <tr>\n",
       "      <th>2</th>\n",
       "      <td>167386</td>\n",
       "      <td>1</td>\n",
       "      <td>2</td>\n",
       "      <td>06-04-2020</td>\n",
       "      <td>01-04-2020</td>\n",
       "      <td>9999-99-99</td>\n",
       "      <td>2</td>\n",
       "      <td>2</td>\n",
       "      <td>54</td>\n",
       "      <td>2</td>\n",
       "      <td>...</td>\n",
       "      <td>2</td>\n",
       "      <td>2</td>\n",
       "      <td>2</td>\n",
       "      <td>2</td>\n",
       "      <td>1</td>\n",
       "      <td>2</td>\n",
       "      <td>2</td>\n",
       "      <td>99</td>\n",
       "      <td>1</td>\n",
       "      <td>2</td>\n",
       "    </tr>\n",
       "  </tbody>\n",
       "</table>\n",
       "<p>3 rows × 23 columns</p>\n",
       "</div>"
      ],
      "text/plain": [
       "       id  sex  patient_type  entry_date date_symptoms   date_died  intubed  \\\n",
       "0  16169f    2             1  04-05-2020    02-05-2020  9999-99-99       97   \n",
       "1  1009bf    2             1  19-03-2020    17-03-2020  9999-99-99       97   \n",
       "2  167386    1             2  06-04-2020    01-04-2020  9999-99-99        2   \n",
       "\n",
       "   pneumonia  age  pregnancy  ...  inmsupr  hypertension  other_disease  \\\n",
       "0          2   27         97  ...        2             2              2   \n",
       "1          2   24         97  ...        2             2              2   \n",
       "2          2   54          2  ...        2             2              2   \n",
       "\n",
       "   cardiovascular  obesity  renal_chronic  tobacco  contact_other_covid  \\\n",
       "0               2        2              2        2                    2   \n",
       "1               2        2              2        2                   99   \n",
       "2               2        1              2        2                   99   \n",
       "\n",
       "   covid_res  icu  \n",
       "0          1   97  \n",
       "1          1   97  \n",
       "2          1    2  \n",
       "\n",
       "[3 rows x 23 columns]"
      ]
     },
     "execution_count": 4,
     "metadata": {},
     "output_type": "execute_result"
    }
   ],
   "source": [
    "covidPDF.head(3)"
   ]
  },
  {
   "cell_type": "code",
   "execution_count": 5,
   "metadata": {},
   "outputs": [
    {
     "data": {
      "text/plain": [
       "(566602, 23)"
      ]
     },
     "execution_count": 5,
     "metadata": {},
     "output_type": "execute_result"
    }
   ],
   "source": [
    "covidPDF.shape"
   ]
  },
  {
   "cell_type": "markdown",
   "metadata": {},
   "source": [
    "### B. Strip Column Names of Extra White Spaces (Front and Back)"
   ]
  },
  {
   "cell_type": "code",
   "execution_count": 6,
   "metadata": {},
   "outputs": [
    {
     "data": {
      "text/plain": [
       "Index(['id', 'sex', 'patient_type', 'entry_date', 'date_symptoms', 'date_died',\n",
       "       'intubed', 'pneumonia', 'age', 'pregnancy', 'diabetes', 'copd',\n",
       "       'asthma', 'inmsupr', 'hypertension', 'other_disease', 'cardiovascular',\n",
       "       'obesity', 'renal_chronic', 'tobacco', 'contact_other_covid',\n",
       "       'covid_res', 'icu'],\n",
       "      dtype='object')"
      ]
     },
     "execution_count": 6,
     "metadata": {},
     "output_type": "execute_result"
    }
   ],
   "source": [
    "covidPDF.columns.str.strip()"
   ]
  },
  {
   "cell_type": "markdown",
   "metadata": {},
   "source": [
    "### C. Drop Columns with Date and ID Data"
   ]
  },
  {
   "cell_type": "code",
   "execution_count": 7,
   "metadata": {},
   "outputs": [],
   "source": [
    "covidPDF.drop(['entry_date','id','date_symptoms','date_died'],axis = 1, inplace = True)"
   ]
  },
  {
   "cell_type": "code",
   "execution_count": 8,
   "metadata": {},
   "outputs": [],
   "source": [
    "COLS = covidPDF.columns"
   ]
  },
  {
   "cell_type": "code",
   "execution_count": 9,
   "metadata": {},
   "outputs": [],
   "source": [
    "COLS = list(COLS)"
   ]
  },
  {
   "cell_type": "markdown",
   "metadata": {},
   "source": [
    "### D. Look at Count Values for All Columns"
   ]
  },
  {
   "cell_type": "code",
   "execution_count": 10,
   "metadata": {},
   "outputs": [
    {
     "name": "stdout",
     "output_type": "stream",
     "text": [
      "2    287112\n",
      "1    279490\n",
      "Name: sex, dtype: int64\n",
      "1    444689\n",
      "2    121913\n",
      "Name: patient_type, dtype: int64\n",
      "97    444689\n",
      "2     111824\n",
      "1       9965\n",
      "99       124\n",
      "Name: intubed, dtype: int64\n",
      "2     478416\n",
      "1      88175\n",
      "99        11\n",
      "Name: pneumonia, dtype: int64\n",
      "30     14604\n",
      "31     13911\n",
      "36     13890\n",
      "38     13847\n",
      "37     13836\n",
      "34     13679\n",
      "32     13631\n",
      "35     13619\n",
      "33     13472\n",
      "29     13411\n",
      "28     13402\n",
      "40     13326\n",
      "39     13287\n",
      "27     12815\n",
      "46     12722\n",
      "41     12606\n",
      "42     12591\n",
      "43     12576\n",
      "45     12522\n",
      "44     12448\n",
      "47     12384\n",
      "48     12130\n",
      "26     11941\n",
      "49     11500\n",
      "50     11228\n",
      "51     10702\n",
      "25     10589\n",
      "52     10426\n",
      "53      9653\n",
      "54      9053\n",
      "       ...  \n",
      "90       519\n",
      "91       339\n",
      "92       272\n",
      "93       217\n",
      "95       170\n",
      "94       161\n",
      "96       114\n",
      "97        83\n",
      "98        68\n",
      "99        56\n",
      "100       42\n",
      "101       17\n",
      "102       16\n",
      "103        9\n",
      "120        7\n",
      "104        7\n",
      "109        5\n",
      "110        3\n",
      "108        3\n",
      "106        3\n",
      "114        2\n",
      "113        2\n",
      "107        2\n",
      "119        2\n",
      "105        2\n",
      "118        1\n",
      "117        1\n",
      "116        1\n",
      "115        1\n",
      "111        1\n",
      "Name: age, Length: 120, dtype: int64\n",
      "97    287112\n",
      "2     273840\n",
      "1       4063\n",
      "98      1587\n",
      "Name: pregnancy, dtype: int64\n",
      "2     493790\n",
      "1      70831\n",
      "98      1981\n",
      "Name: diabetes, dtype: int64\n",
      "2     555723\n",
      "1       9130\n",
      "98      1749\n",
      "Name: copd, dtype: int64\n",
      "2     546824\n",
      "1      18026\n",
      "98      1752\n",
      "Name: asthma, dtype: int64\n",
      "2     555644\n",
      "1       8978\n",
      "98      1980\n",
      "Name: inmsupr, dtype: int64\n",
      "2     472270\n",
      "1      92508\n",
      "98      1824\n",
      "Name: hypertension, dtype: int64\n",
      "2     546920\n",
      "1      17084\n",
      "98      2598\n",
      "Name: other_disease, dtype: int64\n",
      "2     552005\n",
      "1      12775\n",
      "98      1822\n",
      "Name: cardiovascular, dtype: int64\n",
      "2     472549\n",
      "1      92272\n",
      "98      1781\n",
      "Name: obesity, dtype: int64\n",
      "2     553560\n",
      "1      11250\n",
      "98      1792\n",
      "Name: renal_chronic, dtype: int64\n",
      "2     516678\n",
      "1      48017\n",
      "98      1907\n",
      "Name: tobacco, dtype: int64\n",
      "1     221867\n",
      "99    175031\n",
      "2     169704\n",
      "Name: contact_other_covid, dtype: int64\n",
      "2    279035\n",
      "1    220657\n",
      "3     66910\n",
      "Name: covid_res, dtype: int64\n",
      "97    444689\n",
      "2     111676\n",
      "1      10112\n",
      "99       125\n",
      "Name: icu, dtype: int64\n"
     ]
    }
   ],
   "source": [
    "for i in range(len(COLS)):\n",
    "    print(covidPDF.iloc[:,i].value_counts())"
   ]
  },
  {
   "cell_type": "markdown",
   "metadata": {},
   "source": [
    "### E. Drop Columns with Largely Incomplete Data"
   ]
  },
  {
   "cell_type": "code",
   "execution_count": 11,
   "metadata": {},
   "outputs": [],
   "source": [
    "covidPDF.drop(['intubed'],axis = 1, inplace = True)"
   ]
  },
  {
   "cell_type": "code",
   "execution_count": 12,
   "metadata": {},
   "outputs": [],
   "source": [
    "covidPDF.drop(['icu'],axis = 1, inplace = True)"
   ]
  },
  {
   "cell_type": "code",
   "execution_count": 13,
   "metadata": {},
   "outputs": [],
   "source": [
    "covidPDF.drop(['contact_other_covid'],axis = 1, inplace = True)"
   ]
  },
  {
   "cell_type": "code",
   "execution_count": 14,
   "metadata": {},
   "outputs": [],
   "source": [
    "covidPDF.drop(['pregnancy'],axis = 1, inplace = True)"
   ]
  },
  {
   "cell_type": "code",
   "execution_count": 15,
   "metadata": {},
   "outputs": [
    {
     "data": {
      "text/plain": [
       "(566602, 15)"
      ]
     },
     "execution_count": 15,
     "metadata": {},
     "output_type": "execute_result"
    }
   ],
   "source": [
    "covidPDF.shape"
   ]
  },
  {
   "cell_type": "code",
   "execution_count": 16,
   "metadata": {},
   "outputs": [
    {
     "data": {
      "text/plain": [
       "Index(['sex', 'patient_type', 'pneumonia', 'age', 'diabetes', 'copd', 'asthma',\n",
       "       'inmsupr', 'hypertension', 'other_disease', 'cardiovascular', 'obesity',\n",
       "       'renal_chronic', 'tobacco', 'covid_res'],\n",
       "      dtype='object')"
      ]
     },
     "execution_count": 16,
     "metadata": {},
     "output_type": "execute_result"
    }
   ],
   "source": [
    "covidPDF.columns"
   ]
  },
  {
   "cell_type": "markdown",
   "metadata": {},
   "source": [
    "### F. Clean Column Data for Missing or Null Values"
   ]
  },
  {
   "cell_type": "code",
   "execution_count": 17,
   "metadata": {},
   "outputs": [],
   "source": [
    "covidPDF = covidPDF[covidPDF['patient_type']<90]"
   ]
  },
  {
   "cell_type": "code",
   "execution_count": 18,
   "metadata": {},
   "outputs": [],
   "source": [
    "covidPDF = covidPDF[covidPDF['age'] <= 85]"
   ]
  },
  {
   "cell_type": "code",
   "execution_count": 19,
   "metadata": {},
   "outputs": [],
   "source": [
    "covidPDF = covidPDF[covidPDF['pneumonia']<90]"
   ]
  },
  {
   "cell_type": "code",
   "execution_count": 20,
   "metadata": {},
   "outputs": [],
   "source": [
    "covidPDF = covidPDF[covidPDF['diabetes']<90]"
   ]
  },
  {
   "cell_type": "code",
   "execution_count": 21,
   "metadata": {},
   "outputs": [],
   "source": [
    "covidPDF = covidPDF[covidPDF['copd']<90]"
   ]
  },
  {
   "cell_type": "code",
   "execution_count": 22,
   "metadata": {},
   "outputs": [],
   "source": [
    "covidPDF = covidPDF[covidPDF['asthma']<90]"
   ]
  },
  {
   "cell_type": "code",
   "execution_count": 23,
   "metadata": {},
   "outputs": [],
   "source": [
    "covidPDF = covidPDF[covidPDF['inmsupr']<90]"
   ]
  },
  {
   "cell_type": "code",
   "execution_count": 24,
   "metadata": {},
   "outputs": [],
   "source": [
    "covidPDF = covidPDF[covidPDF['hypertension']<90]"
   ]
  },
  {
   "cell_type": "code",
   "execution_count": 25,
   "metadata": {},
   "outputs": [],
   "source": [
    "covidPDF = covidPDF[covidPDF['other_disease']<90]"
   ]
  },
  {
   "cell_type": "code",
   "execution_count": 26,
   "metadata": {},
   "outputs": [],
   "source": [
    "covidPDF = covidPDF[covidPDF['cardiovascular']<90]"
   ]
  },
  {
   "cell_type": "code",
   "execution_count": 27,
   "metadata": {},
   "outputs": [],
   "source": [
    "covidPDF = covidPDF[covidPDF['diabetes']<90]"
   ]
  },
  {
   "cell_type": "code",
   "execution_count": 28,
   "metadata": {},
   "outputs": [],
   "source": [
    "covidPDF = covidPDF[covidPDF['obesity']<90]"
   ]
  },
  {
   "cell_type": "code",
   "execution_count": 29,
   "metadata": {},
   "outputs": [],
   "source": [
    "covidPDF = covidPDF[covidPDF['renal_chronic']<90]"
   ]
  },
  {
   "cell_type": "code",
   "execution_count": 30,
   "metadata": {},
   "outputs": [],
   "source": [
    "covidPDF = covidPDF[covidPDF['tobacco']<90]"
   ]
  },
  {
   "cell_type": "code",
   "execution_count": 31,
   "metadata": {},
   "outputs": [
    {
     "data": {
      "text/plain": [
       "(557819, 15)"
      ]
     },
     "execution_count": 31,
     "metadata": {},
     "output_type": "execute_result"
    }
   ],
   "source": [
    "covidPDF.shape"
   ]
  },
  {
   "cell_type": "code",
   "execution_count": 32,
   "metadata": {},
   "outputs": [
    {
     "data": {
      "text/html": [
       "<div>\n",
       "<style scoped>\n",
       "    .dataframe tbody tr th:only-of-type {\n",
       "        vertical-align: middle;\n",
       "    }\n",
       "\n",
       "    .dataframe tbody tr th {\n",
       "        vertical-align: top;\n",
       "    }\n",
       "\n",
       "    .dataframe thead th {\n",
       "        text-align: right;\n",
       "    }\n",
       "</style>\n",
       "<table border=\"1\" class=\"dataframe\">\n",
       "  <thead>\n",
       "    <tr style=\"text-align: right;\">\n",
       "      <th></th>\n",
       "      <th>sex</th>\n",
       "      <th>patient_type</th>\n",
       "      <th>pneumonia</th>\n",
       "      <th>age</th>\n",
       "      <th>diabetes</th>\n",
       "      <th>copd</th>\n",
       "      <th>asthma</th>\n",
       "      <th>inmsupr</th>\n",
       "      <th>hypertension</th>\n",
       "      <th>other_disease</th>\n",
       "      <th>cardiovascular</th>\n",
       "      <th>obesity</th>\n",
       "      <th>renal_chronic</th>\n",
       "      <th>tobacco</th>\n",
       "      <th>covid_res</th>\n",
       "    </tr>\n",
       "  </thead>\n",
       "  <tbody>\n",
       "    <tr>\n",
       "      <th>0</th>\n",
       "      <td>2</td>\n",
       "      <td>1</td>\n",
       "      <td>2</td>\n",
       "      <td>27</td>\n",
       "      <td>2</td>\n",
       "      <td>2</td>\n",
       "      <td>2</td>\n",
       "      <td>2</td>\n",
       "      <td>2</td>\n",
       "      <td>2</td>\n",
       "      <td>2</td>\n",
       "      <td>2</td>\n",
       "      <td>2</td>\n",
       "      <td>2</td>\n",
       "      <td>1</td>\n",
       "    </tr>\n",
       "    <tr>\n",
       "      <th>1</th>\n",
       "      <td>2</td>\n",
       "      <td>1</td>\n",
       "      <td>2</td>\n",
       "      <td>24</td>\n",
       "      <td>2</td>\n",
       "      <td>2</td>\n",
       "      <td>2</td>\n",
       "      <td>2</td>\n",
       "      <td>2</td>\n",
       "      <td>2</td>\n",
       "      <td>2</td>\n",
       "      <td>2</td>\n",
       "      <td>2</td>\n",
       "      <td>2</td>\n",
       "      <td>1</td>\n",
       "    </tr>\n",
       "    <tr>\n",
       "      <th>2</th>\n",
       "      <td>1</td>\n",
       "      <td>2</td>\n",
       "      <td>2</td>\n",
       "      <td>54</td>\n",
       "      <td>2</td>\n",
       "      <td>2</td>\n",
       "      <td>2</td>\n",
       "      <td>2</td>\n",
       "      <td>2</td>\n",
       "      <td>2</td>\n",
       "      <td>2</td>\n",
       "      <td>1</td>\n",
       "      <td>2</td>\n",
       "      <td>2</td>\n",
       "      <td>1</td>\n",
       "    </tr>\n",
       "    <tr>\n",
       "      <th>3</th>\n",
       "      <td>2</td>\n",
       "      <td>2</td>\n",
       "      <td>1</td>\n",
       "      <td>30</td>\n",
       "      <td>2</td>\n",
       "      <td>2</td>\n",
       "      <td>2</td>\n",
       "      <td>2</td>\n",
       "      <td>2</td>\n",
       "      <td>2</td>\n",
       "      <td>2</td>\n",
       "      <td>2</td>\n",
       "      <td>2</td>\n",
       "      <td>2</td>\n",
       "      <td>1</td>\n",
       "    </tr>\n",
       "    <tr>\n",
       "      <th>4</th>\n",
       "      <td>1</td>\n",
       "      <td>2</td>\n",
       "      <td>2</td>\n",
       "      <td>60</td>\n",
       "      <td>1</td>\n",
       "      <td>2</td>\n",
       "      <td>2</td>\n",
       "      <td>2</td>\n",
       "      <td>1</td>\n",
       "      <td>2</td>\n",
       "      <td>1</td>\n",
       "      <td>2</td>\n",
       "      <td>2</td>\n",
       "      <td>2</td>\n",
       "      <td>1</td>\n",
       "    </tr>\n",
       "  </tbody>\n",
       "</table>\n",
       "</div>"
      ],
      "text/plain": [
       "   sex  patient_type  pneumonia  age  diabetes  copd  asthma  inmsupr  \\\n",
       "0    2             1          2   27         2     2       2        2   \n",
       "1    2             1          2   24         2     2       2        2   \n",
       "2    1             2          2   54         2     2       2        2   \n",
       "3    2             2          1   30         2     2       2        2   \n",
       "4    1             2          2   60         1     2       2        2   \n",
       "\n",
       "   hypertension  other_disease  cardiovascular  obesity  renal_chronic  \\\n",
       "0             2              2               2        2              2   \n",
       "1             2              2               2        2              2   \n",
       "2             2              2               2        1              2   \n",
       "3             2              2               2        2              2   \n",
       "4             1              2               1        2              2   \n",
       "\n",
       "   tobacco  covid_res  \n",
       "0        2          1  \n",
       "1        2          1  \n",
       "2        2          1  \n",
       "3        2          1  \n",
       "4        2          1  "
      ]
     },
     "execution_count": 32,
     "metadata": {},
     "output_type": "execute_result"
    }
   ],
   "source": [
    "covidPDF.head()\n"
   ]
  },
  {
   "cell_type": "markdown",
   "metadata": {},
   "source": [
    "#### Changing all feature values to binary (0,1)"
   ]
  },
  {
   "cell_type": "code",
   "execution_count": 33,
   "metadata": {},
   "outputs": [
    {
     "data": {
      "text/plain": [
       "['sex',\n",
       " 'patient_type',\n",
       " 'pneumonia',\n",
       " 'diabetes',\n",
       " 'copd',\n",
       " 'asthma',\n",
       " 'inmsupr',\n",
       " 'hypertension',\n",
       " 'other_disease',\n",
       " 'cardiovascular',\n",
       " 'obesity',\n",
       " 'renal_chronic',\n",
       " 'tobacco']"
      ]
     },
     "execution_count": 33,
     "metadata": {},
     "output_type": "execute_result"
    }
   ],
   "source": [
    "BINCOLS = covidPDF.columns[0:3]\n",
    "BINCOLS = list(BINCOLS)\n",
    "BINCOLS2 = covidPDF.columns[4:-1]\n",
    "BINCOLS2 = list(BINCOLS2)\n",
    "BINCOLS3 = BINCOLS + BINCOLS2\n",
    "BINCOLS3"
   ]
  },
  {
   "cell_type": "code",
   "execution_count": 34,
   "metadata": {},
   "outputs": [],
   "source": [
    "for row in BINCOLS3:\n",
    "    covidPDF[row].replace(1,0,inplace=True)"
   ]
  },
  {
   "cell_type": "code",
   "execution_count": 35,
   "metadata": {},
   "outputs": [],
   "source": [
    "for row in BINCOLS3:\n",
    "    covidPDF[row].replace(2,1,inplace=True)"
   ]
  },
  {
   "cell_type": "markdown",
   "metadata": {},
   "source": [
    "#### In Label Column change 1, 2, 3 to 0, 1, 2 ..."
   ]
  },
  {
   "cell_type": "code",
   "execution_count": 36,
   "metadata": {},
   "outputs": [],
   "source": [
    "covidPDF.iloc[:,-1].replace(1,0,inplace=True)"
   ]
  },
  {
   "cell_type": "code",
   "execution_count": 37,
   "metadata": {},
   "outputs": [],
   "source": [
    "covidPDF.iloc[:,-1].replace(2,1,inplace=True)"
   ]
  },
  {
   "cell_type": "code",
   "execution_count": 38,
   "metadata": {},
   "outputs": [],
   "source": [
    "covidPDF.iloc[:,-1].replace(3,2,inplace=True)"
   ]
  },
  {
   "cell_type": "code",
   "execution_count": 39,
   "metadata": {},
   "outputs": [
    {
     "data": {
      "text/plain": [
       "1    275135\n",
       "0    216916\n",
       "2     65768\n",
       "Name: covid_res, dtype: int64"
      ]
     },
     "execution_count": 39,
     "metadata": {},
     "output_type": "execute_result"
    }
   ],
   "source": [
    "covidPDF.iloc[:,-1].value_counts()"
   ]
  },
  {
   "cell_type": "markdown",
   "metadata": {},
   "source": [
    "### G. Statistical Analysis on Data (Measures and Correlation)"
   ]
  },
  {
   "cell_type": "code",
   "execution_count": 40,
   "metadata": {},
   "outputs": [
    {
     "name": "stdout",
     "output_type": "stream",
     "text": [
      "Statistics for Feature  sex\n",
      "Max =  1\n",
      "Min =  0\n",
      "Mean =  0.5063380774050364\n",
      "Skewness =  -0.02535441491152254\n",
      "Kurtosis =  -1.9993643221629827\n",
      "------------------------------------------------------\n",
      "\n",
      "Statistics for Feature  patient_type\n",
      "Max =  1\n",
      "Min =  0\n",
      "Mean =  0.210268922356535\n",
      "Skewness =  1.4219983301760037\n",
      "Kurtosis =  0.022079330173551792\n",
      "------------------------------------------------------\n",
      "\n",
      "Statistics for Feature  pneumonia\n",
      "Max =  1\n",
      "Min =  0\n",
      "Mean =  0.8480170091015186\n",
      "Skewness =  -1.938794856141714\n",
      "Kurtosis =  1.7589318006494103\n",
      "------------------------------------------------------\n",
      "\n",
      "Statistics for Feature  age\n",
      "Max =  85\n",
      "Min =  0\n",
      "Mean =  42.17663077091314\n",
      "Skewness =  0.17836154090750053\n",
      "Kurtosis =  -0.07357439381197883\n",
      "------------------------------------------------------\n",
      "\n",
      "Statistics for Feature  diabetes\n",
      "Max =  1\n",
      "Min =  0\n",
      "Mean =  0.8760673264983803\n",
      "Skewness =  -2.2826278685509678\n",
      "Kurtosis =  3.2104014968217918\n",
      "------------------------------------------------------\n",
      "\n",
      "Statistics for Feature  copd\n",
      "Max =  1\n",
      "Min =  0\n",
      "Mean =  0.9852030855886945\n",
      "Skewness =  -8.037227378770709\n",
      "Kurtosis =  62.597248373746865\n",
      "------------------------------------------------------\n",
      "\n",
      "Statistics for Feature  asthma\n",
      "Max =  1\n",
      "Min =  0\n",
      "Mean =  0.9680075436655976\n",
      "Skewness =  -5.318888093177665\n",
      "Kurtosis =  26.290664810083914\n",
      "------------------------------------------------------\n",
      "\n",
      "Statistics for Feature  inmsupr\n",
      "Max =  1\n",
      "Min =  0\n",
      "Mean =  0.9843551402874409\n",
      "Skewness =  -7.806086029684804\n",
      "Kurtosis =  58.93519040861082\n",
      "------------------------------------------------------\n",
      "\n",
      "Statistics for Feature  hypertension\n",
      "Max =  1\n",
      "Min =  0\n",
      "Mean =  0.8395752027091224\n",
      "Skewness =  -1.8505532266279037\n",
      "Kurtosis =  1.4245523521492593\n",
      "------------------------------------------------------\n",
      "\n",
      "Statistics for Feature  other_disease\n",
      "Max =  1\n",
      "Min =  0\n",
      "Mean =  0.9702286942538709\n",
      "Skewness =  -5.533555776155211\n",
      "Kurtosis =  28.620342142964937\n",
      "------------------------------------------------------\n",
      "\n",
      "Statistics for Feature  cardiovascular\n",
      "Max =  1\n",
      "Min =  0\n",
      "Mean =  0.9784697186721858\n",
      "Skewness =  -6.593060693019177\n",
      "Kurtosis =  41.468597983017474\n",
      "------------------------------------------------------\n",
      "\n",
      "Statistics for Feature  obesity\n",
      "Max =  1\n",
      "Min =  0\n",
      "Mean =  0.8364899725538212\n",
      "Skewness =  -1.81970389594669\n",
      "Kurtosis =  1.3113269705324573\n",
      "------------------------------------------------------\n",
      "\n",
      "Statistics for Feature  renal_chronic\n",
      "Max =  1\n",
      "Min =  0\n",
      "Mean =  0.9804847091977864\n",
      "Skewness =  -6.947088135837584\n",
      "Kurtosis =  46.26219943522051\n",
      "------------------------------------------------------\n",
      "\n",
      "Statistics for Feature  tobacco\n",
      "Max =  1\n",
      "Min =  0\n",
      "Mean =  0.9152341530137912\n",
      "Skewness =  -2.9815882525277697\n",
      "Kurtosis =  6.889893210569445\n",
      "------------------------------------------------------\n",
      "\n"
     ]
    }
   ],
   "source": [
    "from scipy.stats import *\n",
    "LENGTH = len(covidPDF.columns)\n",
    "for i in range(0,LENGTH-1):\n",
    "    print('Statistics for Feature ',covidPDF.columns[i])\n",
    "    stat = covidPDF.iloc[:,i].max()\n",
    "    print('Max = ', stat)\n",
    "    stat = covidPDF.iloc[:,i].min()\n",
    "    print('Min = ', stat)\n",
    "    stat = covidPDF.iloc[:,i].mean()\n",
    "    print('Mean = ', stat)\n",
    "    stat = covidPDF.iloc[:,i].skew()\n",
    "    print('Skewness = ', stat)\n",
    "    stat = covidPDF.iloc[:,i].kurtosis()\n",
    "    print('Kurtosis = ', stat)\n",
    "    print('------------------------------------------------------\\n')"
   ]
  },
  {
   "cell_type": "markdown",
   "metadata": {},
   "source": [
    "### Statistical data indicates that conditions such as tuberculosis, pneumonia, copd, diabetes lend themselves to a much higher likelihood of patient developing COVID-19. In particular, the heavy skew and kurtosis values for features such as COPD, Cardiovascular and Renal Chronic indicate that these patient conditions lend themselves highly to a greater chance of contacting COVID-19."
   ]
  },
  {
   "cell_type": "markdown",
   "metadata": {},
   "source": [
    "### H. Some Data Visualizations Betweeen Age and Infected Patients"
   ]
  },
  {
   "cell_type": "code",
   "execution_count": 41,
   "metadata": {},
   "outputs": [],
   "source": [
    "C1 = covidPDF[covidPDF['covid_res']==0]\n",
    "C2 = covidPDF[covidPDF['covid_res']==1]\n",
    "C3 = covidPDF[covidPDF['covid_res']==2]"
   ]
  },
  {
   "cell_type": "code",
   "execution_count": 42,
   "metadata": {},
   "outputs": [],
   "source": [
    "C1 = C1['age'].sample(n=100,random_state=1)\n",
    "C2 = C2['age'].sample(n=100,random_state=1)\n",
    "C3 = C3['age'].sample(n=100,random_state=1)"
   ]
  },
  {
   "cell_type": "code",
   "execution_count": 43,
   "metadata": {},
   "outputs": [],
   "source": [
    "from matplotlib import pyplot as plt"
   ]
  },
  {
   "cell_type": "code",
   "execution_count": 44,
   "metadata": {},
   "outputs": [
    {
     "data": {
      "image/png": "[encoded data removed]",
      "text/plain": [
       "<Figure size 432x288 with 1 Axes>"
      ]
     },
     "metadata": {
      "needs_background": "light"
     },
     "output_type": "display_data"
    }
   ],
   "source": [
    "plt.hist(C1,color = 'green',edgecolor='white')\n",
    "plt.xlabel('Age Groups')\n",
    "plt.ylabel('Frequency of Cases')\n",
    "plt.title('Histogram of Contracted Cases Sample Size n = 100')\n",
    "plt.show()"
   ]
  },
  {
   "cell_type": "code",
   "execution_count": 45,
   "metadata": {},
   "outputs": [
    {
     "data": {
      "image/png": "[encoded data removed]",
      "text/plain": [
       "<Figure size 432x288 with 1 Axes>"
      ]
     },
     "metadata": {
      "needs_background": "light"
     },
     "output_type": "display_data"
    }
   ],
   "source": [
    "plt.hist(C2,color = 'red', edgecolor='white')\n",
    "plt.xlabel('Age Groups')\n",
    "plt.ylabel('Frequency of Cases')\n",
    "plt.title('Histogram of Recovered Cases Sample Size n = 100')\n",
    "plt.show()"
   ]
  },
  {
   "cell_type": "code",
   "execution_count": 46,
   "metadata": {},
   "outputs": [
    {
     "data": {
      "image/png": "[encoded data removed]",
      "text/plain": [
       "<Figure size 432x288 with 1 Axes>"
      ]
     },
     "metadata": {
      "needs_background": "light"
     },
     "output_type": "display_data"
    }
   ],
   "source": [
    "plt.hist(C3,color = 'yellow', edgecolor='brown')\n",
    "plt.xlabel('Age Groups')\n",
    "plt.ylabel('Frequency of Cases')\n",
    "plt.title('Histogram of Dead Patient Cases Sample Size n = 100')\n",
    "plt.show()"
   ]
  },
  {
   "cell_type": "markdown",
   "metadata": {},
   "source": [
    "# 2. Modeling Using Apache Spark ML"
   ]
  },
  {
   "cell_type": "markdown",
   "metadata": {},
   "source": [
    "### A. Set up Requirements"
   ]
  },
  {
   "cell_type": "code",
   "execution_count": 47,
   "metadata": {},
   "outputs": [
    {
     "data": {
      "text/markdown": [
       "# <span style=\"color:green\">All is Fine -- Proceed!</span>"
      ],
      "text/plain": [
       "<IPython.core.display.Markdown object>"
      ]
     },
     "metadata": {},
     "output_type": "display_data"
    }
   ],
   "source": [
    "from IPython.display import Markdown, display\n",
    "def printmd(string):\n",
    "    display(Markdown('# <span style=\"color:green\">'+string+'</span>'))\n",
    "\n",
    "\n",
    "if ('sc' in locals() or 'sc' in globals()):\n",
    "    printmd('<<<<<!!!!! It seems that you are running in a IBM Watson Studio Apache Spark Notebook. Please run it in an IBM Watson Studio Default Runtime (without Apache Spark) !!!!!>>>>>')\n",
    "else:\n",
    "    printmd(\"All is Fine -- Proceed!\")"
   ]
  },
  {
   "cell_type": "code",
   "execution_count": 48,
   "metadata": {},
   "outputs": [
    {
     "name": "stdout",
     "output_type": "stream",
     "text": [
      "Collecting pyspark==2.4.5\n",
      "\u001b[?25l  Downloading https://files.pythonhosted.org/packages/9a/5a/271c416c1c2185b6cb0151b29a91fff6fcaed80173c8584ff6d20e46b465/pyspark-2.4.5.tar.gz (217.8MB)\n",
      "\u001b[K     |████████████████████████████████| 217.8MB 167kB/s  eta 0:00:01███▋   | 195.1MB 66.4MB/s eta 0:00:01\n",
      "\u001b[?25hCollecting py4j==0.10.7 (from pyspark==2.4.5)\n",
      "\u001b[?25l  Downloading https://files.pythonhosted.org/packages/e3/53/c737818eb9a7dc32a7cd4f1396e787bd94200c3997c72c1dbe028587bd76/py4j-0.10.7-py2.py3-none-any.whl (197kB)\n",
      "\u001b[K     |████████████████████████████████| 204kB 33.1MB/s eta 0:00:01\n",
      "\u001b[?25hBuilding wheels for collected packages: pyspark\n",
      "  Building wheel for pyspark (setup.py) ... \u001b[?25ldone\n",
      "\u001b[?25h  Stored in directory: /home/dsxuser/.cache/pip/wheels/bf/db/04/61d66a5939364e756eb1c1be4ec5bdce6e04047fc7929a3c3c\n",
      "Successfully built pyspark\n",
      "Installing collected packages: py4j, pyspark\n",
      "Successfully installed py4j-0.10.7 pyspark-2.4.5\n"
     ]
    }
   ],
   "source": [
    "!pip install pyspark==2.4.5"
   ]
  },
  {
   "cell_type": "code",
   "execution_count": 49,
   "metadata": {},
   "outputs": [
    {
     "data": {
      "text/markdown": [
       "# <span style=\"color:green\">All Libraries Imported OK</span>"
      ],
      "text/plain": [
       "<IPython.core.display.Markdown object>"
      ]
     },
     "metadata": {},
     "output_type": "display_data"
    }
   ],
   "source": [
    "try:\n",
    "    from pyspark import SparkContext, SparkConf\n",
    "    from pyspark.sql import SparkSession\n",
    "    printmd(\"All Libraries Imported OK\")\n",
    "except ImportError as e:\n",
    "    printmd('<<<<<!!!!! Please restart your kernel after installing Apache Spark !!!!!>>>>>')"
   ]
  },
  {
   "cell_type": "code",
   "execution_count": 50,
   "metadata": {},
   "outputs": [],
   "source": [
    "sc = SparkContext.getOrCreate(SparkConf().setMaster(\"local[*]\"))\n",
    "\n",
    "spark = SparkSession \\\n",
    "    .builder \\\n",
    "    .getOrCreate()"
   ]
  },
  {
   "cell_type": "code",
   "execution_count": 51,
   "metadata": {},
   "outputs": [],
   "source": [
    "#covidPDF['age'] = (covidPDF['age']-covidPDF['age'].mean())/covidPDF['age'].std()\n",
    "covidPDF['age'] /= covidPDF['age'].max()"
   ]
  },
  {
   "cell_type": "code",
   "execution_count": 52,
   "metadata": {},
   "outputs": [
    {
     "data": {
      "text/plain": [
       "0.4961956561283277"
      ]
     },
     "execution_count": 52,
     "metadata": {},
     "output_type": "execute_result"
    }
   ],
   "source": [
    "covidPDF['age'].mean()"
   ]
  },
  {
   "cell_type": "markdown",
   "metadata": {},
   "source": [
    "### B. Set Up Spark Data Frame"
   ]
  },
  {
   "cell_type": "code",
   "execution_count": 53,
   "metadata": {},
   "outputs": [],
   "source": [
    "covidSDF = spark.createDataFrame(covidPDF)"
   ]
  },
  {
   "cell_type": "code",
   "execution_count": 54,
   "metadata": {},
   "outputs": [
    {
     "data": {
      "text/plain": [
       "15"
      ]
     },
     "execution_count": 54,
     "metadata": {},
     "output_type": "execute_result"
    }
   ],
   "source": [
    "len(covidSDF.columns)"
   ]
  },
  {
   "cell_type": "code",
   "execution_count": 55,
   "metadata": {},
   "outputs": [
    {
     "data": {
      "text/plain": [
       "['sex',\n",
       " 'patient_type',\n",
       " 'pneumonia',\n",
       " 'age',\n",
       " 'diabetes',\n",
       " 'copd',\n",
       " 'asthma',\n",
       " 'inmsupr',\n",
       " 'hypertension',\n",
       " 'other_disease',\n",
       " 'cardiovascular',\n",
       " 'obesity',\n",
       " 'renal_chronic',\n",
       " 'tobacco',\n",
       " 'covid_res']"
      ]
     },
     "execution_count": 55,
     "metadata": {},
     "output_type": "execute_result"
    }
   ],
   "source": [
    "covidSDF.columns"
   ]
  },
  {
   "cell_type": "markdown",
   "metadata": {},
   "source": [
    "### C. Use Decision Tree Multi-Classifier Machine Learning Algorithm with MulticlassClassification Evaluator ''Accuracy'' Metric"
   ]
  },
  {
   "cell_type": "code",
   "execution_count": 56,
   "metadata": {},
   "outputs": [],
   "source": [
    "inputCols = covidSDF.columns[0:-1]"
   ]
  },
  {
   "cell_type": "code",
   "execution_count": 57,
   "metadata": {},
   "outputs": [],
   "source": [
    "from pyspark.ml.feature import VectorAssembler\n",
    "vectorAssembler = VectorAssembler(inputCols = inputCols, outputCol = \"features\")"
   ]
  },
  {
   "cell_type": "code",
   "execution_count": 58,
   "metadata": {},
   "outputs": [],
   "source": [
    "from pyspark.ml.classification import DecisionTreeClassifier as DTC"
   ]
  },
  {
   "cell_type": "code",
   "execution_count": 59,
   "metadata": {},
   "outputs": [],
   "source": [
    "dt = DTC(labelCol=\"covid_res\", featuresCol=\"features\")"
   ]
  },
  {
   "cell_type": "code",
   "execution_count": 60,
   "metadata": {},
   "outputs": [],
   "source": [
    "from pyspark.ml import Pipeline\n",
    "pipeline = Pipeline(stages=[vectorAssembler, dt])"
   ]
  },
  {
   "cell_type": "markdown",
   "metadata": {},
   "source": [
    "### Using 80-20 Random Splitting"
   ]
  },
  {
   "cell_type": "code",
   "execution_count": 61,
   "metadata": {},
   "outputs": [],
   "source": [
    "SPLITS = covidSDF.randomSplit([0.7,0.3])"
   ]
  },
  {
   "cell_type": "code",
   "execution_count": 62,
   "metadata": {},
   "outputs": [],
   "source": [
    "covidSDF_Train = SPLITS[0]\n",
    "covidSDF_Test = SPLITS[1]"
   ]
  },
  {
   "cell_type": "code",
   "execution_count": 63,
   "metadata": {},
   "outputs": [],
   "source": [
    "model = pipeline.fit(covidSDF_Train)"
   ]
  },
  {
   "cell_type": "code",
   "execution_count": 64,
   "metadata": {},
   "outputs": [],
   "source": [
    "predictions = model.transform(covidSDF_Test)"
   ]
  },
  {
   "cell_type": "code",
   "execution_count": 65,
   "metadata": {
    "scrolled": true
   },
   "outputs": [
    {
     "name": "stdout",
     "output_type": "stream",
     "text": [
      "+----------+---------+--------------------+\n",
      "|prediction|covid_res|            features|\n",
      "+----------+---------+--------------------+\n",
      "|       1.0|        0|[0.0,0.0,0.0,0.01...|\n",
      "|       1.0|        1|[0.0,0.0,0.0,0.02...|\n",
      "|       1.0|        0|[0.0,0.0,0.0,0.03...|\n",
      "|       1.0|        1|[0.0,0.0,0.0,0.03...|\n",
      "|       1.0|        0|[0.0,0.0,0.0,0.11...|\n",
      "+----------+---------+--------------------+\n",
      "only showing top 5 rows\n",
      "\n"
     ]
    }
   ],
   "source": [
    "predictions.select(\"prediction\", \"covid_res\", \"features\").show(5)"
   ]
  },
  {
   "cell_type": "code",
   "execution_count": 68,
   "metadata": {},
   "outputs": [],
   "source": [
    "from pyspark.ml.evaluation import MulticlassClassificationEvaluator as MCCE"
   ]
  },
  {
   "cell_type": "code",
   "execution_count": 69,
   "metadata": {},
   "outputs": [
    {
     "name": "stdout",
     "output_type": "stream",
     "text": [
      "Test Error = 0.443965 \n"
     ]
    }
   ],
   "source": [
    "evaluator = MCCE(labelCol=\"covid_res\", predictionCol=\"prediction\", metricName=\"accuracy\")\n",
    "accuracy = evaluator.evaluate(predictions)\n",
    "print(\"Test Error = %g \" % (1.0 - accuracy))"
   ]
  },
  {
   "cell_type": "code",
   "execution_count": 71,
   "metadata": {},
   "outputs": [
    {
     "name": "stdout",
     "output_type": "stream",
     "text": [
      "Percentage Accuracy = 55.60\n"
     ]
    }
   ],
   "source": [
    "binEval = MCCE().setMetricName(\"accuracy\").setPredictionCol(\"prediction\").setLabelCol(\"covid_res\")\n",
    "    \n",
    "binEval.evaluate(predictions) \n",
    "\n",
    "print(\"Percentage Accuracy = %.2f\" % (100*binEval.evaluate(predictions)))"
   ]
  },
  {
   "cell_type": "markdown",
   "metadata": {},
   "source": [
    "### D. Using Random Forest Classifier that uses Bootstrapping Algorithm (BAGGING)"
   ]
  },
  {
   "cell_type": "code",
   "execution_count": 109,
   "metadata": {},
   "outputs": [],
   "source": [
    "from pyspark.ml.classification import RandomForestClassifier as RFC"
   ]
  },
  {
   "cell_type": "code",
   "execution_count": 110,
   "metadata": {},
   "outputs": [],
   "source": [
    "rft = RFC(labelCol=\"covid_res\", featuresCol=\"features\")"
   ]
  },
  {
   "cell_type": "code",
   "execution_count": 111,
   "metadata": {},
   "outputs": [],
   "source": [
    "pipeline = Pipeline(stages=[vectorAssembler, rft])"
   ]
  },
  {
   "cell_type": "code",
   "execution_count": 112,
   "metadata": {},
   "outputs": [],
   "source": [
    "covidSDF_Train = SPLITS[0]\n",
    "covidSDF_Test = SPLITS[1]"
   ]
  },
  {
   "cell_type": "code",
   "execution_count": 113,
   "metadata": {},
   "outputs": [],
   "source": [
    "model = pipeline.fit(covidSDF_Train)"
   ]
  },
  {
   "cell_type": "code",
   "execution_count": 114,
   "metadata": {},
   "outputs": [],
   "source": [
    "predictions = model.transform(covidSDF_Test)"
   ]
  },
  {
   "cell_type": "code",
   "execution_count": 115,
   "metadata": {},
   "outputs": [
    {
     "name": "stdout",
     "output_type": "stream",
     "text": [
      "Test Error = 0.442638 \n"
     ]
    }
   ],
   "source": [
    "evaluator = MulticlassClassificationEvaluator(labelCol=\"covid_res\", predictionCol=\"prediction\", metricName=\"accuracy\")\n",
    "accuracy = evaluator.evaluate(predictions)\n",
    "print(\"Test Error = %g \" % (1.0 - accuracy))"
   ]
  },
  {
   "cell_type": "code",
   "execution_count": 116,
   "metadata": {},
   "outputs": [
    {
     "name": "stdout",
     "output_type": "stream",
     "text": [
      "+----------+---------+--------------------+\n",
      "|prediction|covid_res|            features|\n",
      "+----------+---------+--------------------+\n",
      "|       1.0|        1|[1.0,1.0,1.0,-2.5...|\n",
      "|       1.0|        1|[1.0,1.0,1.0,-2.5...|\n",
      "|       1.0|        1|[1.0,1.0,1.0,-2.4...|\n",
      "|       1.0|        1|[1.0,1.0,1.0,-2.4...|\n",
      "|       1.0|        1|[1.0,1.0,1.0,-2.3...|\n",
      "|       1.0|        0|[1.0,1.0,1.0,-2.2...|\n",
      "|       1.0|        0|[1.0,1.0,1.0,-1.9...|\n",
      "|       1.0|        0|[1.0,1.0,1.0,-1.9...|\n",
      "|       1.0|        0|[1.0,1.0,1.0,-1.8...|\n",
      "|       1.0|        0|[1.0,1.0,1.0,-1.7...|\n",
      "|       1.0|        0|[1.0,1.0,1.0,-1.7...|\n",
      "|       1.0|        0|[1.0,1.0,1.0,-1.6...|\n",
      "|       0.0|        0|[1.0,1.0,1.0,-1.5...|\n",
      "|       0.0|        0|[1.0,1.0,1.0,-1.5...|\n",
      "|       1.0|        0|[1.0,1.0,1.0,-1.5...|\n",
      "|       1.0|        0|[1.0,1.0,1.0,-1.4...|\n",
      "|       1.0|        0|[1.0,1.0,1.0,-1.4...|\n",
      "|       0.0|        0|[1.0,1.0,1.0,-1.3...|\n",
      "|       1.0|        0|[1.0,1.0,1.0,-1.3...|\n",
      "|       1.0|        0|[1.0,1.0,1.0,-1.2...|\n",
      "+----------+---------+--------------------+\n",
      "only showing top 20 rows\n",
      "\n"
     ]
    }
   ],
   "source": [
    "predictions.select(\"prediction\", \"covid_res\", \"features\").show(20)"
   ]
  },
  {
   "cell_type": "markdown",
   "metadata": {},
   "source": [
    "# 3. PCA Dimensionality Reduction"
   ]
  },
  {
   "cell_type": "code",
   "execution_count": 59,
   "metadata": {},
   "outputs": [],
   "source": [
    "from pyspark.ml.feature import PCA\n",
    "from pyspark.ml.linalg import Vectors\n",
    "from pyspark.ml.feature import VectorAssembler"
   ]
  },
  {
   "cell_type": "code",
   "execution_count": 60,
   "metadata": {},
   "outputs": [],
   "source": [
    "assembler = VectorAssembler(inputCols = covidSDF.columns[0:-1], outputCol=\"features\")"
   ]
  },
  {
   "cell_type": "code",
   "execution_count": 62,
   "metadata": {},
   "outputs": [],
   "source": [
    "covidSDF2 = covidSDF.collect()[:][0:-1]"
   ]
  },
  {
   "cell_type": "code",
   "execution_count": 64,
   "metadata": {},
   "outputs": [
    {
     "data": {
      "text/plain": [
       "list"
      ]
     },
     "execution_count": 64,
     "metadata": {},
     "output_type": "execute_result"
    }
   ],
   "source": [
    "type(covidSDF2)"
   ]
  },
  {
   "cell_type": "code",
   "execution_count": 66,
   "metadata": {},
   "outputs": [],
   "source": [
    "features = assembler.transform(spark.createDataFrame(covidSDF2))"
   ]
  },
  {
   "cell_type": "code",
   "execution_count": 71,
   "metadata": {},
   "outputs": [
    {
     "data": {
      "text/plain": [
       "[DenseVector([1.0, 0.0, 1.0, 0.3176, 1.0, 1.0, 1.0, 1.0, 1.0, 1.0, 1.0, 1.0, 1.0, 1.0]),\n",
       " DenseVector([1.0, 0.0, 1.0, 0.2824, 1.0, 1.0, 1.0, 1.0, 1.0, 1.0, 1.0, 1.0, 1.0, 1.0]),\n",
       " DenseVector([0.0, 1.0, 1.0, 0.6353, 1.0, 1.0, 1.0, 1.0, 1.0, 1.0, 1.0, 0.0, 1.0, 1.0]),\n",
       " DenseVector([1.0, 1.0, 0.0, 0.3529, 1.0, 1.0, 1.0, 1.0, 1.0, 1.0, 1.0, 1.0, 1.0, 1.0]),\n",
       " DenseVector([0.0, 1.0, 1.0, 0.7059, 0.0, 1.0, 1.0, 1.0, 0.0, 1.0, 0.0, 1.0, 1.0, 1.0]),\n",
       " DenseVector([1.0, 1.0, 0.0, 0.5529, 0.0, 1.0, 1.0, 1.0, 1.0, 1.0, 1.0, 1.0, 1.0, 1.0]),\n",
       " DenseVector([1.0, 1.0, 1.0, 0.7412, 1.0, 1.0, 1.0, 1.0, 0.0, 1.0, 1.0, 1.0, 1.0, 1.0]),\n",
       " DenseVector([0.0, 0.0, 1.0, 0.6588, 1.0, 1.0, 1.0, 1.0, 0.0, 1.0, 1.0, 1.0, 0.0, 0.0]),\n",
       " DenseVector([0.0, 0.0, 1.0, 0.4824, 1.0, 1.0, 1.0, 1.0, 1.0, 1.0, 1.0, 1.0, 1.0, 1.0]),\n",
       " DenseVector([0.0, 1.0, 0.0, 0.4588, 1.0, 1.0, 1.0, 1.0, 1.0, 1.0, 1.0, 0.0, 1.0, 1.0])]"
      ]
     },
     "execution_count": 71,
     "metadata": {},
     "output_type": "execute_result"
    }
   ],
   "source": [
    "features.rdd.map(lambda r : r.features).take(10)"
   ]
  },
  {
   "cell_type": "code",
   "execution_count": 72,
   "metadata": {},
   "outputs": [],
   "source": [
    "pca = PCA(k=3, inputCol=\"features\", outputCol=\"pcaFeatures\")\n",
    "model = pca.fit(features)"
   ]
  },
  {
   "cell_type": "code",
   "execution_count": 73,
   "metadata": {},
   "outputs": [
    {
     "name": "stdout",
     "output_type": "stream",
     "text": [
      "+-------------------------------------------------------------+\n",
      "|pcaFeatures                                                  |\n",
      "+-------------------------------------------------------------+\n",
      "|[0.9737783980833634,1.6420637520289565,1.1004930786523286]   |\n",
      "|[0.9792791416333442,1.6447917148993767,1.1030240894310046]   |\n",
      "|[0.5991961872145695,0.3642109676696704,0.9414204303851526]   |\n",
      "|[-0.11291030642141694,1.2518489891402518,1.8126486061933396] |\n",
      "|[0.062578972232902,0.07616457897838727,0.7756473074437888]   |\n",
      "|[-0.43282277192250995,1.0597524839137,1.5269637013046948]    |\n",
      "|[-0.021753684531048603,1.1729123496761726,0.9633245965810924]|\n",
      "|[0.9094745929426402,0.5325818469748895,0.5865188108220118]   |\n",
      "|[1.3560888122730614,0.7284206875708822,1.2055859071873372]   |\n",
      "|[0.14500699726576305,0.2045591869212198,1.288264097703313]   |\n",
      "|[0.2657329454016273,0.33638728276856433,1.9160540942092308]  |\n",
      "|[1.3487544875397537,0.7247834037436552,1.2022112261491025]   |\n",
      "|[0.37244976364394755,1.4269592261544173,1.480147333287677]   |\n",
      "|[1.3689238805563502,0.7347859342685293,1.2114915990042479]   |\n",
      "|[0.9536090050667669,1.6320612215040824,1.091212705797183]    |\n",
      "|[1.3296818239350243,0.8000894582900309,1.1136184866229424]   |\n",
      "|[1.0526785774219112,0.5445080709555911,0.9274940346347205]   |\n",
      "|[0.47535123242244537,1.264372668314628,-0.036526622224145724]|\n",
      "|[1.3597559746397154,0.7302393294844957,1.2072732477064545]   |\n",
      "|[0.28899978334050536,1.2104695056330679,0.3114841612100381]  |\n",
      "+-------------------------------------------------------------+\n",
      "only showing top 20 rows\n",
      "\n"
     ]
    }
   ],
   "source": [
    "result_pca = model.transform(features).select(\"pcaFeatures\")\n",
    "result_pca.show(truncate=False)"
   ]
  },
  {
   "cell_type": "code",
   "execution_count": 74,
   "metadata": {},
   "outputs": [
    {
     "data": {
      "text/plain": [
       "557818"
      ]
     },
     "execution_count": 74,
     "metadata": {},
     "output_type": "execute_result"
    }
   ],
   "source": [
    "result_pca.count()"
   ]
  },
  {
   "cell_type": "code",
   "execution_count": 82,
   "metadata": {},
   "outputs": [],
   "source": [
    "x = result_pca.rdd.map(lambda row : row.pcaFeatures[0]).collect()\n",
    "y = result_pca.rdd.map(lambda row : row.pcaFeatures[1]).collect()\n",
    "z = result_pca.rdd.map(lambda row : row.pcaFeatures[2]).collect()"
   ]
  },
  {
   "cell_type": "code",
   "execution_count": 85,
   "metadata": {},
   "outputs": [],
   "source": [
    "import random"
   ]
  },
  {
   "cell_type": "code",
   "execution_count": 86,
   "metadata": {},
   "outputs": [],
   "source": [
    "x = random.sample(x,100)"
   ]
  },
  {
   "cell_type": "code",
   "execution_count": 87,
   "metadata": {},
   "outputs": [],
   "source": [
    "y = random.sample(y, 100)\n",
    "z = random.sample(z, 100)"
   ]
  },
  {
   "cell_type": "code",
   "execution_count": 90,
   "metadata": {},
   "outputs": [
    {
     "data": {
      "image/png": "[encoded data removed]",
      "text/plain": [
       "<Figure size 432x288 with 1 Axes>"
      ]
     },
     "metadata": {
      "needs_background": "light"
     },
     "output_type": "display_data"
    }
   ],
   "source": [
    "%matplotlib inline\n",
    "import matplotlib.pyplot as plt\n",
    "from mpl_toolkits.mplot3d import Axes3D\n",
    "\n",
    "\n",
    "fig = plt.figure()\n",
    "ax = fig.add_subplot(111, projection='3d')\n",
    "\n",
    "\n",
    "\n",
    "\n",
    "ax.scatter(x,y,z, c='r', marker='o')\n",
    "\n",
    "ax.set_xlabel('dimension1')\n",
    "ax.set_ylabel('dimension2')\n",
    "ax.set_zlabel('dimension3')\n",
    "\n",
    "plt.show()"
   ]
  },
  {
   "cell_type": "markdown",
   "metadata": {},
   "source": [
    "## NOT A WHOLE LOT OF CLUSTERING ... FEATURES ARE PRETTY SPREAD OUT !!!\n",
    "## "
   ]
  }
 ],
 "metadata": {
  "kernelspec": {
   "display_name": "Python 3",
   "language": "python",
   "name": "python3"
  },
  "language_info": {
   "codemirror_mode": {
    "name": "ipython",
    "version": 3
   },
   "file_extension": ".py",
   "mimetype": "text/x-python",
   "name": "python",
   "nbconvert_exporter": "python",
   "pygments_lexer": "ipython3",
   "version": "3.7.4"
  }
 },
 "nbformat": 4,
 "nbformat_minor": 4
}
